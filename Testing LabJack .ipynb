{
 "metadata": {
  "name": "Testing LabJack "
 }, 
 "nbformat": 2, 
 "worksheets": [
  {
   "cells": [
    {
     "cell_type": "code", 
     "collapsed": true, 
     "input": [
      "import u3"
     ], 
     "language": "python", 
     "outputs": [], 
     "prompt_number": 1
    }, 
    {
     "cell_type": "code", 
     "collapsed": true, 
     "input": [
      "d = u3.U3()"
     ], 
     "language": "python", 
     "outputs": [], 
     "prompt_number": 2
    }, 
    {
     "cell_type": "code", 
     "collapsed": false, 
     "input": [
      "d.configU3()"
     ], 
     "language": "python", 
     "outputs": [
      {
       "output_type": "pyout", 
       "prompt_number": 46, 
       "text": [
        "{'BootloaderVersion': '0.27',", 
        " 'CIODirection': 0,", 
        " 'CIOState': 0,", 
        " 'CompatibilityOptions': 0,", 
        " 'DAC0': 0,", 
        " 'DAC1': 0,", 
        " 'DAC1Enable': 1,", 
        " 'DeviceName': 'U3-LV',", 
        " 'EIOAnalog': 0,", 
        " 'EIODirection': 0,", 
        " 'EIOState': 0,", 
        " 'FIOAnalog': 0,", 
        " 'FIODirection': 0,", 
        " 'FIOState': 0,", 
        " 'FirmwareVersion': '1.46',", 
        " 'HardwareVersion': '1.30',", 
        " 'LocalID': 1,", 
        " 'ProductID': 3,", 
        " 'SerialNumber': 320056798,", 
        " 'TimerClockConfig': 2,", 
        " 'TimerClockDivisor': 256,", 
        " 'TimerCounterMask': 64,", 
        " 'VersionInfo': 2}"
       ]
      }
     ], 
     "prompt_number": 46
    }, 
    {
     "cell_type": "code", 
     "collapsed": false, 
     "input": [
      "DAC0_REGISTER = 5000", 
      "d.writeRegister(DAC0_REGISTER,1.5)"
     ], 
     "language": "python", 
     "outputs": [
      {
       "output_type": "pyout", 
       "prompt_number": 9, 
       "text": [
        "1.5"
       ]
      }
     ], 
     "prompt_number": 9
    }, 
    {
     "cell_type": "code", 
     "collapsed": false, 
     "input": [
      "d.configIO(FIOAnalog=0b00000001)"
     ], 
     "language": "python", 
     "outputs": [
      {
       "output_type": "pyout", 
       "prompt_number": 3, 
       "text": [
        "{'DAC1Enable': 0,", 
        " 'EIOAnalog': 0,", 
        " 'EnableCounter0': False,", 
        " 'EnableCounter1': False,", 
        " 'FIOAnalog': 1,", 
        " 'NumberOfTimersEnabled': 0,", 
        " 'TimerCounterConfig': 64,", 
        " 'TimerCounterPinOffset': 4}"
       ]
      }
     ], 
     "prompt_number": 3
    }, 
    {
     "cell_type": "code", 
     "collapsed": false, 
     "input": [
      "AIN0_REGISTER = 0", 
      "d.readRegister(AIN0_REGISTER)"
     ], 
     "language": "python", 
     "outputs": [
      {
       "output_type": "pyout", 
       "prompt_number": 13, 
       "text": [
        "1.5079375505447388"
       ]
      }
     ], 
     "prompt_number": 13
    }, 
    {
     "cell_type": "code", 
     "collapsed": false, 
     "input": [
      "FI01_STATE_REGISTER = 6001", 
      "d.writeRegister(FI01_STATE_REGISTER,0)"
     ], 
     "language": "python", 
     "outputs": [
      {
       "output_type": "pyout", 
       "prompt_number": 20, 
       "text": [
        "0"
       ]
      }
     ], 
     "prompt_number": 20
    }, 
    {
     "cell_type": "code", 
     "collapsed": false, 
     "input": [
      "d.writeRegister(FI01_STATE_REGISTER,0)"
     ], 
     "language": "python", 
     "outputs": [
      {
       "output_type": "pyout", 
       "prompt_number": 22, 
       "text": [
        "0"
       ]
      }
     ], 
     "prompt_number": 22
    }, 
    {
     "cell_type": "code", 
     "collapsed": true, 
     "input": [
      "FI02_DIR_REGISTER = 6102", 
      "FI02_STATE_REGISTER = 6002"
     ], 
     "language": "python", 
     "outputs": [], 
     "prompt_number": 27
    }, 
    {
     "cell_type": "code", 
     "collapsed": false, 
     "input": [
      "d.writeRegister(FI02_DIR_REGISTER,0)"
     ], 
     "language": "python", 
     "outputs": [
      {
       "output_type": "pyout", 
       "prompt_number": 28, 
       "text": [
        "0"
       ]
      }
     ], 
     "prompt_number": 28
    }, 
    {
     "cell_type": "code", 
     "collapsed": false, 
     "input": [
      "d.readRegister(FI02_STATE_REGISTER)"
     ], 
     "language": "python", 
     "outputs": [
      {
       "output_type": "pyout", 
       "prompt_number": 31, 
       "text": [
        "1"
       ]
      }
     ], 
     "prompt_number": 31
    }, 
    {
     "cell_type": "code", 
     "collapsed": true, 
     "input": [
      "import sys", 
      "sys.path.append(\"src/ni_engine/_lib/\")", 
      "", 
      "import ei1050", 
      "from Queue import LifoQueue"
     ], 
     "language": "python", 
     "outputs": [], 
     "prompt_number": 4
    }, 
    {
     "cell_type": "code", 
     "collapsed": false, 
     "input": [
      "from datetime import datetime"
     ], 
     "language": "python", 
     "outputs": [], 
     "prompt_number": 8
    }, 
    {
     "cell_type": "code", 
     "collapsed": false, 
     "input": [
      "probe= ei1050.EI1050(d,enablePinNum=7,dataPinNum=4,clockPinNum=5)"
     ], 
     "language": "python", 
     "outputs": [], 
     "prompt_number": 6
    }, 
    {
     "cell_type": "code", 
     "collapsed": false, 
     "input": [
      "probe.getTemperature()", 
      "a = datetime.now()", 
      "num = 100", 
      "for x in range (num):", 
      "    reading = probe.getReading()", 
      "    reading.getTemperature()", 
      "    reading.getHumidity()", 
      "b = (datetime.now()-a).seconds", 
      "print b/float(num)", 
      "    "
     ], 
     "language": "python", 
     "outputs": [
      {
       "output_type": "stream", 
       "stream": "stdout", 
       "text": [
        "0.32"
       ]
      }
     ], 
     "prompt_number": 13
    }, 
    {
     "cell_type": "code", 
     "collapsed": true, 
     "input": [
      "from datetime import datetime", 
      "import time"
     ], 
     "language": "python", 
     "outputs": [], 
     "prompt_number": 19
    }, 
    {
     "cell_type": "code", 
     "collapsed": false, 
     "input": [
      "humidity = []", 
      "temperature = [] ", 
      "timeVal  = []", 
      "elap= 0", 
      "a = datetime.now()", 
      "plt.ion()", 
      "for i in range(100):", 
      "    ", 
      "    measurement = queue.get()    ", 
      "    print q.qsize()    ", 
      "    print measurement.getHumidity()", 
      "    print measurement.getTemperature()", 
      "    humidity.append(measurement.getHumidity())", 
      "    temperature.append(measurement.getTemperature())", 
      "    timeVal.append((datetime.now()-a).seconds)", 
      "    plt.figure(1)", 
      "    plt.subplot(211)", 
      "    plt.plot(timeVal,temperature)", 
      "    plt.ylim(ymin=0,ymax=100)", 
      "    plt.subplot(212)", 
      "    plt.plot(timeVal,humidity)", 
      "    plt.ylim(ymin=0,ymax=100)", 
      "    plt.draw()    ", 
      "    time.sleep(0.5)", 
      ""
     ], 
     "language": "python", 
     "outputs": [
      {
       "output_type": "stream", 
       "stream": "stdout", 
       "text": [
        "0", 
        "70.6487372", 
        "26.74", 
        "0"
       ]
      }, 
      {
       "output_type": "stream", 
       "stream": "stdout", 
       "text": [
        "", 
        "70.3324216", 
        "26.73", 
        "0"
       ]
      }, 
      {
       "output_type": "stream", 
       "stream": "stdout", 
       "text": [
        "", 
        "70.300166", 
        "26.71", 
        "0"
       ]
      }, 
      {
       "output_type": "stream", 
       "stream": "stdout", 
       "text": [
        "", 
        "70.042316", 
        "26.71", 
        "0"
       ]
      }, 
      {
       "output_type": "stream", 
       "stream": "stdout", 
       "text": [
        "", 
        "69.9277468", 
        "26.87", 
        "0"
       ]
      }, 
      {
       "output_type": "stream", 
       "stream": "stdout", 
       "text": [
        "", 
        "72.244216", 
        "27.22", 
        "0"
       ]
      }, 
      {
       "output_type": "stream", 
       "stream": "stdout", 
       "text": [
        "", 
        "76.0238824", 
        "27.41", 
        "0"
       ]
      }, 
      {
       "output_type": "stream", 
       "stream": "stdout", 
       "text": [
        "", 
        "79.5045756", 
        "27.53", 
        "0"
       ]
      }, 
      {
       "output_type": "stream", 
       "stream": "stdout", 
       "text": [
        "", 
        "82.3906204", 
        "27.61", 
        "0"
       ]
      }, 
      {
       "output_type": "stream", 
       "stream": "stdout", 
       "text": [
        "", 
        "84.6164216", 
        "27.67", 
        "0"
       ]
      }, 
      {
       "output_type": "stream", 
       "stream": "stdout", 
       "text": [
        "", 
        "86.3435548", 
        "27.72", 
        "0"
       ]
      }, 
      {
       "output_type": "stream", 
       "stream": "stdout", 
       "text": [
        "", 
        "87.7590216", 
        "27.83", 
        "0"
       ]
      }, 
      {
       "output_type": "stream", 
       "stream": "stdout", 
       "text": [
        "", 
        "88.9822328", 
        "27.93", 
        "0"
       ]
      }, 
      {
       "output_type": "stream", 
       "stream": "stdout", 
       "text": [
        "", 
        "90.00415", 
        "27.96", 
        "0"
       ]
      }, 
      {
       "output_type": "stream", 
       "stream": "stdout", 
       "text": [
        "", 
        "90.743158", 
        "27.97", 
        "0"
       ]
      }, 
      {
       "output_type": "stream", 
       "stream": "stdout", 
       "text": [
        "", 
        "91.22167", 
        "27.93", 
        "0"
       ]
      }, 
      {
       "output_type": "stream", 
       "stream": "stdout", 
       "text": [
        "", 
        "91.1680424", 
        "27.81", 
        "0"
       ]
      }, 
      {
       "output_type": "stream", 
       "stream": "stdout", 
       "text": [
        "", 
        "91.0364456", 
        "27.87", 
        "0"
       ]
      }, 
      {
       "output_type": "stream", 
       "stream": "stdout", 
       "text": [
        "", 
        "91.160758", 
        "27.88", 
        "0"
       ]
      }, 
      {
       "output_type": "stream", 
       "stream": "stdout", 
       "text": [
        "", 
        "90.9827912", 
        "27.85", 
        "0"
       ]
      }, 
      {
       "output_type": "stream", 
       "stream": "stdout", 
       "text": [
        "", 
        "90.1678816", 
        "27.72", 
        "0"
       ]
      }, 
      {
       "output_type": "stream", 
       "stream": "stdout", 
       "text": [
        "", 
        "88.3196252", 
        "27.55", 
        "0"
       ]
      }, 
      {
       "output_type": "stream", 
       "stream": "stdout", 
       "text": [
        "", 
        "85.9898256", 
        "27.62", 
        "0"
       ]
      }, 
      {
       "output_type": "stream", 
       "stream": "stdout", 
       "text": [
        "", 
        "85.730446", 
        "27.94", 
        "0"
       ]
      }, 
      {
       "output_type": "stream", 
       "stream": "stdout", 
       "text": [
        "", 
        "87.1662844", 
        "28.21", 
        "0"
       ]
      }, 
      {
       "output_type": "stream", 
       "stream": "stdout", 
       "text": [
        "", 
        "88.7028508", 
        "28.33", 
        "0"
       ]
      }, 
      {
       "output_type": "stream", 
       "stream": "stdout", 
       "text": [
        "", 
        "89.995904", 
        "28.44", 
        "0"
       ]
      }, 
      {
       "output_type": "stream", 
       "stream": "stdout", 
       "text": [
        "", 
        "91.0234588", 
        "28.52", 
        "0"
       ]
      }, 
      {
       "output_type": "stream", 
       "stream": "stdout", 
       "text": [
        "", 
        "91.8282496", 
        "28.52", 
        "0"
       ]
      }, 
      {
       "output_type": "stream", 
       "stream": "stdout", 
       "text": [
        "", 
        "92.4784332", 
        "28.7", 
        "0"
       ]
      }, 
      {
       "output_type": "stream", 
       "stream": "stdout", 
       "text": [
        "", 
        "92.995582", 
        "28.84", 
        "0"
       ]
      }, 
      {
       "output_type": "stream", 
       "stream": "stdout", 
       "text": [
        "", 
        "93.4329244", 
        "28.86", 
        "0"
       ]
      }, 
      {
       "output_type": "stream", 
       "stream": "stdout", 
       "text": [
        "", 
        "93.7377628", 
        "28.93", 
        "0"
       ]
      }, 
      {
       "output_type": "stream", 
       "stream": "stdout", 
       "text": [
        "", 
        "94.0118876", 
        "29.07", 
        "0"
       ]
      }, 
      {
       "output_type": "stream", 
       "stream": "stdout", 
       "text": [
        "", 
        "94.2354988", 
        "29.2", 
        "0"
       ]
      }, 
      {
       "output_type": "stream", 
       "stream": "stdout", 
       "text": [
        "", 
        "94.403126", 
        "29.11", 
        "0"
       ]
      }, 
      {
       "output_type": "stream", 
       "stream": "stdout", 
       "text": [
        "", 
        "94.42783", 
        "29.02", 
        "0"
       ]
      }, 
      {
       "output_type": "stream", 
       "stream": "stdout", 
       "text": [
        "", 
        "94.395518", 
        "29.08", 
        "0"
       ]
      }, 
      {
       "output_type": "stream", 
       "stream": "stdout", 
       "text": [
        "", 
        "94.4981884", 
        "29.11", 
        "0"
       ]
      }, 
      {
       "output_type": "stream", 
       "stream": "stdout", 
       "text": [
        "", 
        "94.5431452", 
        "29.1", 
        "0"
       ]
      }, 
      {
       "output_type": "stream", 
       "stream": "stdout", 
       "text": [
        "", 
        "94.5533084", 
        "29.14", 
        "0"
       ]
      }, 
      {
       "output_type": "stream", 
       "stream": "stdout", 
       "text": [
        "", 
        "94.4956492", 
        "29.1", 
        "0"
       ]
      }, 
      {
       "output_type": "stream", 
       "stream": "stdout", 
       "text": [
        "", 
        "94.1950252", 
        "29.04", 
        "0"
       ]
      }, 
      {
       "output_type": "stream", 
       "stream": "stdout", 
       "text": [
        "", 
        "93.726424", 
        "28.98", 
        "0"
       ]
      }, 
      {
       "output_type": "stream", 
       "stream": "stdout", 
       "text": [
        "", 
        "93.2534844", 
        "28.91", 
        "0"
       ]
      }, 
      {
       "output_type": "stream", 
       "stream": "stdout", 
       "text": [
        "", 
        "92.8560412", 
        "28.86", 
        "0"
       ]
      }, 
      {
       "output_type": "stream", 
       "stream": "stdout", 
       "text": [
        "", 
        "92.3362744", 
        "28.81", 
        "0"
       ]
      }, 
      {
       "output_type": "stream", 
       "stream": "stdout", 
       "text": [
        "", 
        "91.867766", 
        "28.78", 
        "0"
       ]
      }, 
      {
       "output_type": "stream", 
       "stream": "stdout", 
       "text": [
        "", 
        "91.41931", 
        "28.74", 
        "0"
       ]
      }, 
      {
       "output_type": "stream", 
       "stream": "stdout", 
       "text": [
        "", 
        "90.8440792", 
        "28.69", 
        "0"
       ]
      }, 
      {
       "output_type": "stream", 
       "stream": "stdout", 
       "text": [
        "", 
        "90.1179564", 
        "28.64", 
        "0"
       ]
      }, 
      {
       "output_type": "stream", 
       "stream": "stdout", 
       "text": [
        "", 
        "89.0909888", 
        "28.6", 
        "0"
       ]
      }, 
      {
       "output_type": "stream", 
       "stream": "stdout", 
       "text": [
        "", 
        "87.136438", 
        "28.52", 
        "0"
       ]
      }, 
      {
       "output_type": "stream", 
       "stream": "stdout", 
       "text": [
        "", 
        "85.6965596", 
        "28.47", 
        "0"
       ]
      }, 
      {
       "output_type": "stream", 
       "stream": "stdout", 
       "text": [
        "", 
        "83.8731964", 
        "28.41", 
        "0"
       ]
      }, 
      {
       "output_type": "stream", 
       "stream": "stdout", 
       "text": [
        "", 
        "81.698998", 
        "28.32", 
        "0"
       ]
      }, 
      {
       "output_type": "stream", 
       "stream": "stdout", 
       "text": [
        "", 
        "79.270446", 
        "28.22", 
        "0"
       ]
      }, 
      {
       "output_type": "stream", 
       "stream": "stdout", 
       "text": [
        "", 
        "76.6348956", 
        "28.13", 
        "0"
       ]
      }, 
      {
       "output_type": "stream", 
       "stream": "stdout", 
       "text": [
        "", 
        "74.1250396", 
        "28.08", 
        "0"
       ]
      }, 
      {
       "output_type": "stream", 
       "stream": "stdout", 
       "text": [
        "", 
        "71.9465104", 
        "28.06", 
        "0"
       ]
      }, 
      {
       "output_type": "stream", 
       "stream": "stdout", 
       "text": [
        "", 
        "70.4536616", 
        "28.03", 
        "0"
       ]
      }, 
      {
       "output_type": "stream", 
       "stream": "stdout", 
       "text": [
        "", 
        "69.384398", 
        "28.02", 
        "0"
       ]
      }, 
      {
       "output_type": "stream", 
       "stream": "stdout", 
       "text": [
        "", 
        "68.5679788", 
        "28.0", 
        "0"
       ]
      }, 
      {
       "output_type": "stream", 
       "stream": "stdout", 
       "text": [
        "", 
        "67.717992", 
        "27.98", 
        "0"
       ]
      }, 
      {
       "output_type": "stream", 
       "stream": "stdout", 
       "text": [
        "", 
        "66.7161664", 
        "27.96", 
        "0"
       ]
      }, 
      {
       "output_type": "stream", 
       "stream": "stdout", 
       "text": [
        "", 
        "66.0303708", 
        "27.92", 
        "0"
       ]
      }, 
      {
       "output_type": "stream", 
       "stream": "stdout", 
       "text": [
        "", 
        "65.138662", 
        "27.91", 
        "0"
       ]
      }, 
      {
       "output_type": "stream", 
       "stream": "stdout", 
       "text": [
        "", 
        "64.3914832", 
        "27.9", 
        "0"
       ]
      }, 
      {
       "output_type": "stream", 
       "stream": "stdout", 
       "text": [
        "", 
        "64.05907", 
        "27.88", 
        "0"
       ]
      }, 
      {
       "output_type": "stream", 
       "stream": "stdout", 
       "text": [
        "", 
        "64.208752", 
        "27.88", 
        "0"
       ]
      }, 
      {
       "output_type": "stream", 
       "stream": "stdout", 
       "text": [
        "", 
        "64.6254616", 
        "27.87", 
        "0"
       ]
      }, 
      {
       "output_type": "stream", 
       "stream": "stdout", 
       "text": [
        "", 
        "65.252606", 
        "27.88", 
        "0"
       ]
      }, 
      {
       "output_type": "stream", 
       "stream": "stdout", 
       "text": [
        "", 
        "65.872248", 
        "27.86", 
        "0"
       ]
      }, 
      {
       "output_type": "stream", 
       "stream": "stdout", 
       "text": [
        "", 
        "66.5222512", 
        "27.86", 
        "0"
       ]
      }, 
      {
       "output_type": "stream", 
       "stream": "stdout", 
       "text": [
        "", 
        "67.2248032", 
        "27.84", 
        "0"
       ]
      }, 
      {
       "output_type": "stream", 
       "stream": "stdout", 
       "text": [
        "", 
        "67.896582", 
        "27.83", 
        "0"
       ]
      }, 
      {
       "output_type": "stream", 
       "stream": "stdout", 
       "text": [
        "", 
        "68.972056", 
        "27.82", 
        "0"
       ]
      }, 
      {
       "output_type": "stream", 
       "stream": "stdout", 
       "text": [
        "", 
        "69.3776528", 
        "27.82", 
        "0"
       ]
      }, 
      {
       "output_type": "stream", 
       "stream": "stdout", 
       "text": [
        "", 
        "69.8074092", 
        "27.8", 
        "0"
       ]
      }, 
      {
       "output_type": "stream", 
       "stream": "stdout", 
       "text": [
        "", 
        "70.241284", 
        "27.81", 
        "0"
       ]
      }, 
      {
       "output_type": "stream", 
       "stream": "stdout", 
       "text": [
        "", 
        "70.611094", 
        "27.79", 
        "0"
       ]
      }, 
      {
       "output_type": "stream", 
       "stream": "stdout", 
       "text": [
        "", 
        "70.924504", 
        "27.78", 
        "0"
       ]
      }, 
      {
       "output_type": "stream", 
       "stream": "stdout", 
       "text": [
        "", 
        "71.1819148", 
        "27.78", 
        "0"
       ]
      }, 
      {
       "output_type": "stream", 
       "stream": "stdout", 
       "text": [
        "", 
        "71.3228856", 
        "27.77", 
        "0"
       ]
      }, 
      {
       "output_type": "stream", 
       "stream": "stdout", 
       "text": [
        "", 
        "71.34959", 
        "27.76", 
        "0"
       ]
      }, 
      {
       "output_type": "stream", 
       "stream": "stdout", 
       "text": [
        "", 
        "71.2639424", 
        "27.76", 
        "0"
       ]
      }, 
      {
       "output_type": "stream", 
       "stream": "stdout", 
       "text": [
        "", 
        "71.1174172", 
        "27.74", 
        "0"
       ]
      }, 
      {
       "output_type": "stream", 
       "stream": "stdout", 
       "text": [
        "", 
        "70.8562816", 
        "27.72", 
        "0"
       ]
      }, 
      {
       "output_type": "stream", 
       "stream": "stdout", 
       "text": [
        "", 
        "70.5391644", 
        "27.71", 
        "0"
       ]
      }, 
      {
       "output_type": "stream", 
       "stream": "stdout", 
       "text": [
        "", 
        "69.9317624", 
        "27.69", 
        "0"
       ]
      }, 
      {
       "output_type": "stream", 
       "stream": "stdout", 
       "text": [
        "", 
        "69.0631776", 
        "27.68", 
        "0"
       ]
      }, 
      {
       "output_type": "stream", 
       "stream": "stdout", 
       "text": [
        "", 
        "68.187848", 
        "27.66", 
        "0"
       ]
      }, 
      {
       "output_type": "stream", 
       "stream": "stdout", 
       "text": [
        "", 
        "67.428232", 
        "27.66", 
        "0"
       ]
      }, 
      {
       "output_type": "stream", 
       "stream": "stdout", 
       "text": [
        "", 
        "67.0452828", 
        "27.65", 
        "0"
       ]
      }, 
      {
       "output_type": "stream", 
       "stream": "stdout", 
       "text": [
        "", 
        "66.98311", 
        "27.63", 
        "0"
       ]
      }, 
      {
       "output_type": "stream", 
       "stream": "stdout", 
       "text": [
        "", 
        "67.421304", 
        "27.62", 
        "0"
       ]
      }, 
      {
       "output_type": "stream", 
       "stream": "stdout", 
       "text": [
        "", 
        "67.6536712", 
        "27.61", 
        "0"
       ]
      }, 
      {
       "output_type": "stream", 
       "stream": "stdout", 
       "text": [
        "", 
        "67.887412", 
        "27.61", 
        "0"
       ]
      }, 
      {
       "output_type": "stream", 
       "stream": "stdout", 
       "text": [
        "", 
        "67.8856672", 
        "27.6", 
        "0"
       ]
      }, 
      {
       "output_type": "stream", 
       "stream": "stdout", 
       "text": [
        "", 
        "67.5882328", 
        "27.57"
       ]
      }, 
      {
       "output_type": "display_data", 
       "png": "[encoded data removed]"
      }
     ], 
     "prompt_number": 27
    }, 
    {
     "cell_type": "code", 
     "collapsed": true, 
     "input": [
      " "
     ], 
     "language": "python", 
     "outputs": []
    }
   ]
  }
 ]
}